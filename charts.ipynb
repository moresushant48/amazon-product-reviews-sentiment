{
 "cells": [
  {
   "cell_type": "code",
   "execution_count": 29,
   "id": "7be76a40",
   "metadata": {},
   "outputs": [
    {
     "name": "stdout",
     "output_type": "stream",
     "text": [
      "Collecting matplotlib\n",
      "  Downloading matplotlib-3.5.1-cp39-cp39-win_amd64.whl (7.2 MB)\n",
      "Collecting kiwisolver>=1.0.1\n",
      "  Downloading kiwisolver-1.3.2-cp39-cp39-win_amd64.whl (52 kB)\n",
      "Requirement already satisfied: pillow>=6.2.0 in c:\\users\\mores\\appdata\\local\\programs\\python\\python39\\lib\\site-packages (from matplotlib) (8.3.1)\n",
      "Requirement already satisfied: numpy>=1.17 in c:\\users\\mores\\appdata\\local\\programs\\python\\python39\\lib\\site-packages (from matplotlib) (1.21.3)\n",
      "Requirement already satisfied: python-dateutil>=2.7 in c:\\users\\mores\\appdata\\local\\programs\\python\\python39\\lib\\site-packages (from matplotlib) (2.8.2)\n",
      "Collecting cycler>=0.10\n",
      "  Downloading cycler-0.11.0-py3-none-any.whl (6.4 kB)\n",
      "Requirement already satisfied: packaging>=20.0 in c:\\users\\mores\\appdata\\local\\programs\\python\\python39\\lib\\site-packages (from matplotlib) (21.3)\n",
      "Collecting fonttools>=4.22.0\n",
      "  Downloading fonttools-4.29.0-py3-none-any.whl (895 kB)\n",
      "Requirement already satisfied: pyparsing>=2.2.1 in c:\\users\\mores\\appdata\\local\\programs\\python\\python39\\lib\\site-packages (from matplotlib) (3.0.7)\n",
      "Requirement already satisfied: six>=1.5 in c:\\users\\mores\\appdata\\local\\programs\\python\\python39\\lib\\site-packages (from python-dateutil>=2.7->matplotlib) (1.16.0)\n",
      "Installing collected packages: kiwisolver, fonttools, cycler, matplotlib\n",
      "Successfully installed cycler-0.11.0 fonttools-4.29.0 kiwisolver-1.3.2 matplotlib-3.5.1\n",
      "Note: you may need to restart the kernel to use updated packages.\n"
     ]
    },
    {
     "name": "stderr",
     "output_type": "stream",
     "text": [
      "WARNING: You are using pip version 21.1.3; however, version 21.3.1 is available.\n",
      "You should consider upgrading via the 'c:\\users\\mores\\appdata\\local\\programs\\python\\python39\\python.exe -m pip install --upgrade pip' command.\n"
     ]
    }
   ],
   "source": [
    "pip install matplotlib"
   ]
  },
  {
   "cell_type": "code",
   "execution_count": 21,
   "id": "3c3924ed",
   "metadata": {},
   "outputs": [
    {
     "name": "stdout",
     "output_type": "stream",
     "text": [
      "Positive\n"
     ]
    }
   ],
   "source": [
    "from textblob import TextBlob\n",
    "import matplotlib.pyplot as plt\n",
    "\n",
    "def getPolarity(review):\n",
    "    score = TextBlob(review).sentiment.polarity\n",
    "    if score < 0:\n",
    "        return 'Nagative'\n",
    "    elif score == 0:\n",
    "        return 'Neutral'\n",
    "    else:\n",
    "        return 'Positive'\n",
    "    \n",
    "print(getPolarity(\"I love horror films\"))"
   ]
  },
  {
   "cell_type": "code",
   "execution_count": 13,
   "id": "14dd5366",
   "metadata": {},
   "outputs": [
    {
     "data": {
      "image/png": "[encoded data removed]",
      "text/plain": [
       "<Figure size 432x288 with 2 Axes>"
      ]
     },
     "metadata": {
      "needs_background": "light"
     },
     "output_type": "display_data"
    }
   ],
   "source": [
    "import pandas as pd\n",
    "import matplotlib.pyplot as plt\n",
    "import numpy as np\n",
    "\n",
    "import base64\n",
    "from io import BytesIO\n",
    "\n",
    "df = pd.read_csv('amazon_review.csv')\n",
    "\n",
    "# y = np.array(df['sentiment'].value_counts())\n",
    "# plt.pie(y, radius=2, autopct='%1.0f%%', labels = df['sentiment'].value_counts().index.tolist())\n",
    "# plt.legend(title = \"Sentiments :\")\n",
    "# plt.show()\n",
    "\n",
    "# plt.bar(np.array(df['sentiment'].value_counts().index.tolist()), np.array(df['sentiment'].value_counts()))\n",
    "\n",
    "# buf = BytesIO()\n",
    "# plt.savefig(buf, format=\"png\")\n",
    "# data = base64.b64encode(buf.getbuffer()).decode(\"ascii\")\n",
    "# print(f\"<img src='data:image/png;base64,{data}'/>\")\n",
    "# plt.show()\n",
    "\n",
    "plt.subplot(1,2,1)\n",
    "plt.bar(np.array(df['sentiment'].value_counts().index.tolist()), np.array(\n",
    "    df['sentiment'].value_counts()))\n",
    "plt.title(\"Bar Graph\")\n",
    "plt.subplot(1,2,2)\n",
    "plt.pie(np.array(df['sentiment'].value_counts()), radius=1.2,\n",
    "        autopct='%1.0f%%', labels=df['sentiment'].value_counts().index.tolist())\n",
    "plt.legend(title=\"Sentiments :\")\n",
    "plt.title(\"Pie Chart\")\n",
    "plt.show()"
   ]
  },
  {
   "cell_type": "code",
   "execution_count": null,
   "id": "ce50aef5",
   "metadata": {},
   "outputs": [],
   "source": []
  }
 ],
 "metadata": {
  "kernelspec": {
   "display_name": "Python 3 (ipykernel)",
   "language": "python",
   "name": "python3"
  },
  "language_info": {
   "codemirror_mode": {
    "name": "ipython",
    "version": 3
   },
   "file_extension": ".py",
   "mimetype": "text/x-python",
   "name": "python",
   "nbconvert_exporter": "python",
   "pygments_lexer": "ipython3",
   "version": "3.9.6"
  }
 },
 "nbformat": 4,
 "nbformat_minor": 5
}
