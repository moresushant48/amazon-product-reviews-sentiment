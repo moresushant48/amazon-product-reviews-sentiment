{
 "cells": [
  {
   "cell_type": "code",
   "execution_count": 13,
   "id": "00d331fa",
   "metadata": {},
   "outputs": [
    {
     "name": "stdout",
     "output_type": "stream",
     "text": [
      "Collecting nltk\n",
      "  Downloading nltk-3.6.7-py3-none-any.whl (1.5 MB)\n",
      "Collecting joblib\n",
      "  Downloading joblib-1.1.0-py2.py3-none-any.whl (306 kB)\n",
      "Requirement already satisfied: click in c:\\users\\mores\\appdata\\local\\programs\\python\\python39\\lib\\site-packages (from nltk) (8.0.3)\n",
      "Collecting tqdm\n",
      "  Downloading tqdm-4.62.3-py2.py3-none-any.whl (76 kB)\n",
      "Collecting regex>=2021.8.3\n",
      "  Downloading regex-2022.1.18-cp39-cp39-win_amd64.whl (273 kB)\n",
      "Requirement already satisfied: colorama in c:\\users\\mores\\appdata\\local\\programs\\python\\python39\\lib\\site-packages (from click->nltk) (0.4.4)\n",
      "Installing collected packages: tqdm, regex, joblib, nltk\n",
      "Successfully installed joblib-1.1.0 nltk-3.6.7 regex-2022.1.18 tqdm-4.62.3\n",
      "Note: you may need to restart the kernel to use updated packages.\n"
     ]
    },
    {
     "name": "stderr",
     "output_type": "stream",
     "text": [
      "WARNING: You are using pip version 21.1.3; however, version 21.3.1 is available.\n",
      "You should consider upgrading via the 'c:\\users\\mores\\appdata\\local\\programs\\python\\python39\\python.exe -m pip install --upgrade pip' command.\n"
     ]
    }
   ],
   "source": [
    "pip install nltk"
   ]
  },
  {
   "cell_type": "code",
   "execution_count": 12,
   "id": "04115ee4",
   "metadata": {},
   "outputs": [
    {
     "ename": "SyntaxError",
     "evalue": "invalid syntax (1816659080.py, line 4)",
     "output_type": "error",
     "traceback": [
      "\u001b[1;36m  Input \u001b[1;32mIn [12]\u001b[1;36m\u001b[0m\n\u001b[1;33m    pip install nltk\u001b[0m\n\u001b[1;37m        ^\u001b[0m\n\u001b[1;31mSyntaxError\u001b[0m\u001b[1;31m:\u001b[0m invalid syntax\n"
     ]
    }
   ],
   "source": [
    "pip install bs4\n",
    "pip install requests\n",
    "pip install pandas\n",
    "pip install nltk"
   ]
  },
  {
   "cell_type": "code",
   "execution_count": 4,
   "id": "8acccd7d",
   "metadata": {},
   "outputs": [
    {
     "name": "stdout",
     "output_type": "stream",
     "text": [
      "['  I saw many negative reviews and I was skeptical about buying this. But I ordered it just for guided side cover.I just recently had a major operation for broken hand and I wasnt sure if I could fix it myself.But ESR has made it so easy that even I could get it placed properly.Although I got 2 bubbles but then I went to youtube and found a guide in esr channel and just lifted the glass once to fix both of them perfectly.The fit is amazing and the cleaning kit works really well make sure fans are switched off.The glass cover is amazing it feels great just like the ipad pro. I never felt any difference as compared to using the ipad without cover. I hope it clears your doubt and give u some positivity towards buying it.', '  I browsed a lot to get a good screen protector and ultimately decided to buy this one. I was skeptical till I applied it to my ipad pro 11\" 2020 .*I am very happy after installation*Guiding frame helped in easing the process. Cleaned the work area and placed my gadget elevated to let frame embrace ipad pro body  firmly all-around.Frame gave support to one end of screen protector then I laid it carefully looking at the trail of adhesive seen between ipad screen and protector.Not even a single air bubble is seen.By God\\'s grace dust didn\\'t create any problem though I applied in a room with fan off.Frame  helped in placing equidistantly from all corners. Protector is little bit smaller from the actual screen so edges of cover will not lift it up. Area left uncovered by screen will be covered by the lips of the cover.I knew that it will have glare problem,smudges... but, I wanted safety.Regarding scratching I can\\'t review ..it\\'s the very first day of application.Apple Pencil works efficiently..just as it does on bare screen.Face Id working perfectly.Relieved from worry regarding screen protection .', '  The screen protector is easy to install and is a total steal deal for the price you are paying. I have been using a lot of products from ESR lately and much to me surprise, all of these products have been extremely useful, very well built and an absolute value for money.The cleaning kit works well and so does the frame which is provided to help you align the glass.The only problem with the screen protector is the fact that it is too glossy but that is understandable since it is a tempered glass! This is evident from the photo I have uploaded with this review but let this not stop you from purchasing this.Apple pencil works just fine for daily scribbling but if you are a pro artist, I would recommend taking the paper like protector instead of these glass protectors.', '                    The media could not be loaded.', '                ', '  \\xa0So I have tried to install a lot of tempered glasses for my mobiles in the past but used to encounter some issues or the other; ultimately going outside to install it. The installation of this one is super easy. As you can see my ipad has 0 bubbles has been installed straight.One other thing, people say that this is a finger print magnet which is not the case as you can see but will find out after some use as well.', \"  The install system is flawless. You clean your device, use the sticker to remove dust, and follow the instructions but overall easy, especially compared to freehand. Just watch the video. Perfect size/fit. The protector covers the whole screen but leaves just enough space from the edge of the iPad so that a case can be used. Clear and feels excellent with smooth edges. No effect with responsiveness/sensitivity of the screen whether I’m using my finger or the Apple Pencil, and it doesn't affect the using the iPad in any way (touch, pencil, or magic keyboard) too.5/5 easily, would buy again and will buy from ESR again for other devices.\", '  I installed the way it instructed, but still problem with corners.. corners are not sticking well with screen. I dont know you guys have sent me waste product or what but i ordered it and installed same day I received and wiriting review on the same day.Complete waste of money for me, i saw the reviews and ordered but product was not up to the mark.', '  MY LIKES ABOUT THE PRODUCT1. Very Durable.2. Easy to apply.3. Reasonably Priced.4. 2 Screen Protectors in the box.5. No compromise in Screen Quality.6. Apple Pencil works without problems.CONS:If you game on your screen a lot the oleophobic coating will wear off and make spots on the screen. It is very common with any screen or tempered glasses but should be taken notice of.Note: in the picture you might see a rainbow effect, that is very common in tempered glass protectors. ESR screen protector has very less rainbow effect compared to other screen protectors that I have used. You need to see it at angles and try to look for it, in normal usage you will not notice it at all.My Opinion:Go fot it.', '  First of all the item was delivered within 24 hours of ordering so big thanks to Seller and Amazon. The box of the screen protector has reinforcement inside it but still good to adequate packing which was maintained by the seller.Pros:1. Item exactly as described.2. The installation kit is a blessing and makes you apply the screen protector like a pro.3.  Size is perfect so no issues with case covers of any type. I have 2 case cover both fit perfectly with the screen protector.4. Bubble free installation.5. Price is comparatively lower than the USA and China.6. Has 2 screen protector which is great for the price and brand name.Cons:1. Highly reflective.2. Fingerprint and dust magnet.3. If you planning to get an apple pencil, this is a bad choice for drawing and writing.Hope ESR_India will soon sell ESR paper feel screen protector.', '                    The media could not be loaded.', '                ', '  \\xa0iPad Pro 2020 tempered glass screen protector with alignment tool - by ESRThis is a guide on fitting a tempered glass screen protector to an iPad Pro 2020. The one I\\'m using is for the 11\" iPad Pro 2020 but ESR also make tempered glass screen protectors for the iPad Pro 2020 12.9\", these also fit the iPad Pro 2018.Although there was a bubble in the middle of the screen, after a couple of minutes of forcing it to the edge using the cleaning cloth, it was all gone.The slight bit on the edge where it didn\\'t completely stick was probably my fault. It may have been that I\\'d put grease in the protector in the corner with my thumb as I took off the film, or I may simply have not cleaned the edge of the screen thoroughly first. In any event, it wasn\\'t a concern for me as it was right in the edge, in the bezel area and not on the visible screen area.The alignment tool to guide the screen protector on and align it correctly is awesome and this is probably the best experience I\\'ve had applying a screen protector to anything. I would completely recommend this tempered glass screen protector by ESR, it\\'s awesome and the alignment tool is definitely worth paying the extra for, over other tempered glass screen protectors.And double bonus, both my cases fitted correctly after applying the screen protector.Cheers,Dave.', \"  Bought this for the new iPad Air 4th gen (2020) and it was the easiest install I have ever done on an iPad. I had more issues making sure my screen was dust free.The installation guide you receive with this protector clips on to your iPad and you just peel off the back covering from the glass protector and press it onto the iPad screen and that's it!I had to smooth out a couple of bubbles but even that was easy.The protector also doesn't interfere with the apple pencilAfter installation the protector is virtually invisible. Overall I'm very happy with this product\", '  The screen protector is fine if you’re not using the Apple Pencil to draw. It’s thickness basically prevents 100% accuracy of the pencil, causing diagonal lines to become wobbly (see image) at a guess I would say that the thickness is such that it can’t properly detect between vertical and horizontal inputs and wobbles in between the two, causing this jittery line.Otherwise the screen protector is fine. if I wasn’t using the pencil I’ll definitely keep it on there, easy to install and I had no bubbles.', '  An excellent screen protector which looks beautiful on and like it’s not even there! The frame is incredibly helpful and ensures a perfect fit for the protector. The kit comes with screen wet wipe, drying cloth and the important dust remover sticker. Providing you get EVERY ounce of dust/fibre off the screen like you should, ... you’ll get an perfect application like I did. I’m super happy, thank you ESR!', '  This whole thing looks the business with its included tray, and then when you try and install the screen protector you start to realise maybe not.The tray added literally nothing to the process. As you can see from the photos, the \"teeth\" sticking up on all sides are too short to provide any assistance in aligning the protector. The protector itself is a few mm short in all directions so never once comes into contact with the teeth on the tray. The ipad screen is exposed on all 4 edges where the protector comes short - not ideal.I basically had to align this by eye and I\\'m fortunate I did just about a decent enough job, or this would be 2 stars.Also unlike other tablet protectors, the removable sticker protecting the adhesive is one long single sheet. Other brands provide a more clever 3 part system to ensure you\\'ve got alignment before starting to stick.Would not recommend.']\n"
     ]
    }
   ],
   "source": [
    "# import module\n",
    "import requests\n",
    "from bs4 import BeautifulSoup\n",
    "import pandas as pd\n",
    "from textblob import TextBlob\n",
    "\n",
    "HEADERS = ({'User-Agent':'Mozilla/5.0 (Windows NT 10.0; Win64; x64) AppleWebKit/537.36 (KHTML, like Gecko) Chrome/97.0.4692.99 Safari/537.36'})\n",
    "\n",
    "# user define function\n",
    "# Scrape the data\n",
    "def getdata(url):\n",
    "\tr = requests.get(url, headers=HEADERS)\n",
    "\treturn r.text\n",
    "\n",
    "\n",
    "def html_code(url):\n",
    "\n",
    "\t# pass the url\n",
    "\t# into getdata function\n",
    "\thtmldata = getdata(url)\n",
    "\tsoup = BeautifulSoup(htmldata, 'html.parser')\n",
    "\n",
    "\t# display html code\n",
    "\treturn (soup)\n",
    "\n",
    "\n",
    "\n",
    "def get_names(soup):\n",
    "    # find the Html tag\n",
    "    # with find()\n",
    "    # and convert into string\n",
    "    data_str = \"\"\n",
    "    cus_list = []\n",
    "  \n",
    "    for item in soup.find_all(\"span\", class_=\"a-profile-name\"):\n",
    "        data_str = data_str + item.get_text()\n",
    "        cus_list.append(data_str)\n",
    "        data_str = \"\"\n",
    "    return cus_list\n",
    "\n",
    "\n",
    "def get_reviews(soup):\n",
    "    # find the Html tag\n",
    "    # with find()\n",
    "    # and convert into string\n",
    "    data_str = \"\"\n",
    "    rev_result = []\n",
    "  \n",
    "    for item in soup.find_all(\"div\", class_=\"a-expander-content reviewText review-text-content a-expander-partial-collapse-content\"):\n",
    "        data_str = data_str + item.get_text()\n",
    "  \n",
    "    result = data_str.split(\"\\n\")\n",
    "    return (result)\n",
    "\n",
    "def getPolarity(review):\n",
    "    score = TextBlob(review).sentiment.polarity\n",
    "    if score < 0:\n",
    "        return 'Nagative'\n",
    "    elif score == 0:\n",
    "        return 'Neutral'\n",
    "    else:\n",
    "        return 'Positive'\n",
    "\n",
    "url = \"https://www.amazon.in/ESR-iPad-Screen-Protector-Scratch-Resistant/dp/B07TMCXRFV/?_encoding=UTF8&pd_rd_w=2DsH5&pf_rd_p=e932aeaf-89ea-47b8-9c31-e92696d33d85&pf_rd_r=E0N707RPVBV4MG1DPTBM&pd_rd_r=f83a75cd-ba8f-4bb5-9ce9-c0aff5d2d614&pd_rd_wg=uSOxl&ref_=pd_gw_ci_mcx_mr_hp_d\"\n",
    "\n",
    "# html code\n",
    "soup = html_code(url)\n",
    "\n",
    "reviews = []\n",
    "sentiment = []\n",
    "\n",
    "# customer names\n",
    "names = get_names(soup)\n",
    "\n",
    "# customer reviews\n",
    "reviews_data = get_reviews(soup)\n",
    "\n",
    "\n",
    "for i in reviews_data:\n",
    "    if len(i) == 0:\n",
    "        pass\n",
    "    else:\n",
    "        reviews.append(i)\n",
    "        sentiment.append(getPolarity(i))\n",
    "        \n",
    "\n",
    "# initialise data of lists.\n",
    "data = {'review': reviews,'sentiment': sentiment}\n",
    "  \n",
    "# Create DataFrame\n",
    "df = pd.DataFrame(data)\n",
    "  \n",
    "# Save the output.\n",
    "# df.to_csv('amazon_review.csv')\n",
    "print(reviews)"
   ]
  }
 ],
 "metadata": {
  "kernelspec": {
   "display_name": "Python 3 (ipykernel)",
   "language": "python",
   "name": "python3"
  },
  "language_info": {
   "codemirror_mode": {
    "name": "ipython",
    "version": 3
   },
   "file_extension": ".py",
   "mimetype": "text/x-python",
   "name": "python",
   "nbconvert_exporter": "python",
   "pygments_lexer": "ipython3",
   "version": "3.9.6"
  }
 },
 "nbformat": 4,
 "nbformat_minor": 5
}
