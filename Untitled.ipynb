{
 "cells": [
  {
   "cell_type": "code",
   "execution_count": 14,
   "id": "810c722a",
   "metadata": {},
   "outputs": [
    {
     "name": "stdout",
     "output_type": "stream",
     "text": [
      "[<img alt=\"TIMEX TW00ZR262E\" class=\"a-dynamic-image a-stretch-horizontal\" data-a-dynamic-image='{\"https://m.media-amazon.com/images/I/71Kx6rgmlRS._UX425_.jpg\":[425,425],\"https://m.media-amazon.com/images/I/71Kx6rgmlRS._UX385_.jpg\":[385,385],\"https://m.media-amazon.com/images/I/71Kx6rgmlRS._UX569_.jpg\":[569,569],\"https://m.media-amazon.com/images/I/71Kx6rgmlRS._UX342_.jpg\":[342,342],\"https://m.media-amazon.com/images/I/71Kx6rgmlRS._UX466_.jpg\":[466,466],\"https://m.media-amazon.com/images/I/71Kx6rgmlRS._UX679_.jpg\":[679,679],\"https://m.media-amazon.com/images/I/71Kx6rgmlRS._UX522_.jpg\":[522,522]}' data-a-image-name=\"landingImage\" data-old-hires=\"https://m.media-amazon.com/images/I/71Kx6rgmlRS._UL1500_.jpg\" id=\"landingImage\" onload=\"markFeatureRenderForImageBlock(); this.onload='';setCSMReq('af');if(typeof addlongPoleTag === 'function'){ addlongPoleTag('af','desktop-image-atf-marker');};setCSMReq('cf')\" src=\"https://m.media-amazon.com/images/I/51Q1tNCJgkS._SY300_SX300_.jpg\" style=\"max-width:679px;max-height:679px;\"/>]\n",
      "<img alt=\"TIMEX TW00ZR262E\" class=\"a-dynamic-image a-stretch-horizontal\" data-a-dynamic-image='{\"https://m.media-amazon.com/images/I/71Kx6rgmlRS._UX425_.jpg\":[425,425],\"https://m.media-amazon.com/images/I/71Kx6rgmlRS._UX385_.jpg\":[385,385],\"https://m.media-amazon.com/images/I/71Kx6rgmlRS._UX569_.jpg\":[569,569],\"https://m.media-amazon.com/images/I/71Kx6rgmlRS._UX342_.jpg\":[342,342],\"https://m.media-amazon.com/images/I/71Kx6rgmlRS._UX466_.jpg\":[466,466],\"https://m.media-amazon.com/images/I/71Kx6rgmlRS._UX679_.jpg\":[679,679],\"https://m.media-amazon.com/images/I/71Kx6rgmlRS._UX522_.jpg\":[522,522]}' data-a-image-name=\"landingImage\" data-old-hires=\"https://m.media-amazon.com/images/I/71Kx6rgmlRS._UL1500_.jpg\" id=\"landingImage\" onload=\"markFeatureRenderForImageBlock(); this.onload='';setCSMReq('af');if(typeof addlongPoleTag === 'function'){ addlongPoleTag('af','desktop-image-atf-marker');};setCSMReq('cf')\" src=\"https://m.media-amazon.com/images/I/51Q1tNCJgkS._SY300_SX300_.jpg\" style=\"max-width:679px;max-height:679px;\"/>\n"
     ]
    }
   ],
   "source": [
    "import requests\n",
    "from bs4 import BeautifulSoup\n",
    "import pandas as pd\n",
    "from textblob import TextBlob\n",
    "\n",
    "HEADERS = ({'User-Agent': 'Mozilla/5.0 (Windows NT 10.0; Win64; x64) AppleWebKit/537.36 (KHTML, like Gecko) Chrome/97.0.4692.99 Safari/537.36'})\n",
    "\n",
    "# user define function\n",
    "# Scrape the data\n",
    "\n",
    "\n",
    "def getdata(url):\n",
    "    r = requests.get(url, headers=HEADERS)\n",
    "    return r.text\n",
    "\n",
    "def html_code(url):\n",
    "\n",
    "    # pass the url\n",
    "    # into getdata function\n",
    "    htmldata = getdata(url)\n",
    "    soup = BeautifulSoup(htmldata, 'html.parser')\n",
    "\n",
    "    # display html code\n",
    "    return (soup)\n",
    "\n",
    "soup = html_code(\"https://www.amazon.in/dp/B07H3K85H5/ref=s9_acsd_hps_bw_c2_x_0_i?pf_rd_m=A1K21FY43GMZF8&pf_rd_s=merchandised-search-7&pf_rd_r=P536CVD5N50WE5SFJPQ6&pf_rd_t=101&pf_rd_p=b2036bba-0425-48b0-b8f6-b9a54baa47ac&pf_rd_i=2563504031\")\n",
    "\n",
    "items = soup.select('img[class*=\"a-dynamic-image a-stretch\"]')\n",
    "    # jsondata = items[0]['data-a-dynamic-image']\n",
    "    # data = json.loads(jsondata)\n",
    "print(items)\n",
    "    \n",
    "for item in items:\n",
    "    # images.append(key)\n",
    "    print(item)"
   ]
  }
 ],
 "metadata": {
  "kernelspec": {
   "display_name": "Python 3 (ipykernel)",
   "language": "python",
   "name": "python3"
  },
  "language_info": {
   "codemirror_mode": {
    "name": "ipython",
    "version": 3
   },
   "file_extension": ".py",
   "mimetype": "text/x-python",
   "name": "python",
   "nbconvert_exporter": "python",
   "pygments_lexer": "ipython3",
   "version": "3.9.6"
  }
 },
 "nbformat": 4,
 "nbformat_minor": 5
}
